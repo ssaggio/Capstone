{
 "cells": [
  {
   "cell_type": "markdown",
   "id": "627082ed",
   "metadata": {},
   "source": [
    "# Traffic Incident Management in Nashville, TN"
   ]
  },
  {
   "cell_type": "markdown",
   "id": "b12993b0",
   "metadata": {},
   "source": [
    "### Loading the libraries"
   ]
  },
  {
   "cell_type": "code",
   "execution_count": 1,
   "id": "3dc753bb",
   "metadata": {},
   "outputs": [],
   "source": [
    "import pandas as pd\n",
    "import seaborn as sns\n",
    "import numpy as np\n",
    "import matplotlib.pyplot as plt\n",
    "import datetime\n",
    "import math\n",
    "import re\n",
    "\n",
    "from shapely.geometry import Point\n",
    "import geopandas as gpd\n",
    "import folium\n",
    "from folium.plugins import MarkerCluster\n",
    "from folium.plugins import FastMarkerCluster\n",
    "\n",
    "%matplotlib inline"
   ]
  },
  {
   "cell_type": "markdown",
   "id": "d173ef3e",
   "metadata": {},
   "source": [
    "### Importing the data"
   ]
  },
  {
   "cell_type": "code",
   "execution_count": 2,
   "id": "a781c07b",
   "metadata": {},
   "outputs": [
    {
     "name": "stderr",
     "output_type": "stream",
     "text": [
      "C:\\Users\\suzan\\anaconda3\\envs\\geospatial\\lib\\site-packages\\IPython\\core\\interactiveshell.py:3444: DtypeWarning: Columns (8) have mixed types.Specify dtype option on import or set low_memory=False.\n",
      "  exec(code_obj, self.user_global_ns, self.user_ns)\n"
     ]
    }
   ],
   "source": [
    "traffic_df = pd.read_csv('../data/MASTER File 2021.csv')\n",
    "d_weather = pd.read_csv('../data/Daily Weather Formatted.csv')\n",
    "h_weather = pd.read_csv('../data/Hourly Weather Formatted.csv')"
   ]
  },
  {
   "cell_type": "markdown",
   "id": "40c3b5e7",
   "metadata": {},
   "source": [
    "### Reviewing the Traffic Dataframe"
   ]
  },
  {
   "cell_type": "code",
   "execution_count": null,
   "id": "9ea3cb76",
   "metadata": {},
   "outputs": [],
   "source": [
    "print(traffic_df.shape)"
   ]
  },
  {
   "cell_type": "code",
   "execution_count": null,
   "id": "1eb4ac29",
   "metadata": {},
   "outputs": [],
   "source": [
    "#keep in case\n",
    "#print(traffic_df.crs)"
   ]
  },
  {
   "cell_type": "code",
   "execution_count": null,
   "id": "d1581905",
   "metadata": {},
   "outputs": [],
   "source": [
    "traffic_df.head()"
   ]
  },
  {
   "cell_type": "code",
   "execution_count": null,
   "id": "92bb8232",
   "metadata": {},
   "outputs": [],
   "source": [
    "traffic_df.tail()"
   ]
  },
  {
   "cell_type": "code",
   "execution_count": null,
   "id": "a3fbd7fa",
   "metadata": {},
   "outputs": [],
   "source": [
    "traffic_df.info()"
   ]
  },
  {
   "cell_type": "code",
   "execution_count": null,
   "id": "37ad43f5",
   "metadata": {},
   "outputs": [],
   "source": [
    "traffic_df.columns"
   ]
  },
  {
   "cell_type": "code",
   "execution_count": null,
   "id": "0a629b60",
   "metadata": {},
   "outputs": [],
   "source": [
    "traffic_df['Incident Type'].value_counts()"
   ]
  },
  {
   "cell_type": "code",
   "execution_count": null,
   "id": "d02742aa",
   "metadata": {},
   "outputs": [],
   "source": [
    "traffic_df['Incident Type'].isnull().value_counts()"
   ]
  },
  {
   "cell_type": "code",
   "execution_count": null,
   "id": "251da5dd",
   "metadata": {},
   "outputs": [],
   "source": [
    "traffic_df['Incident Type'].unique()"
   ]
  },
  {
   "cell_type": "code",
   "execution_count": null,
   "id": "d0dd9333",
   "metadata": {},
   "outputs": [],
   "source": []
  },
  {
   "cell_type": "code",
   "execution_count": null,
   "id": "7d7962a2",
   "metadata": {},
   "outputs": [],
   "source": []
  },
  {
   "cell_type": "code",
   "execution_count": null,
   "id": "0ccb830b",
   "metadata": {},
   "outputs": [],
   "source": []
  },
  {
   "cell_type": "code",
   "execution_count": null,
   "id": "c2158c12",
   "metadata": {},
   "outputs": [],
   "source": [
    "davidson = traffic_df[traffic_df['County']=='Davidson']"
   ]
  },
  {
   "cell_type": "code",
   "execution_count": null,
   "id": "0e47d81b",
   "metadata": {},
   "outputs": [],
   "source": []
  },
  {
   "cell_type": "markdown",
   "id": "d5dd209b",
   "metadata": {},
   "source": [
    "### geospatial coding. update 'geometry' column"
   ]
  },
  {
   "cell_type": "code",
   "execution_count": null,
   "id": "da1381c3",
   "metadata": {},
   "outputs": [],
   "source": [
    "traffic_df['geometry'] = traffic_df.apply(lambda x: Point((float(x.Longitude),\n",
    "                                                   float(x.Latitude))),\n",
    "                                  axis=1)"
   ]
  },
  {
   "cell_type": "code",
   "execution_count": null,
   "id": "6fd83a9b",
   "metadata": {},
   "outputs": [],
   "source": [
    "traffic_df.head()"
   ]
  },
  {
   "cell_type": "code",
   "execution_count": null,
   "id": "4acc2aca",
   "metadata": {},
   "outputs": [],
   "source": [
    "traffic_geo = gpd.GeoDataFrame(traffic_df)"
   ]
  },
  {
   "cell_type": "code",
   "execution_count": null,
   "id": "d5a1a912",
   "metadata": {},
   "outputs": [],
   "source": [
    "traffic_geo.head()"
   ]
  },
  {
   "cell_type": "code",
   "execution_count": null,
   "id": "3501aa99",
   "metadata": {},
   "outputs": [],
   "source": [
    "type(traffic_geo)"
   ]
  },
  {
   "cell_type": "markdown",
   "id": "d1ed1b31",
   "metadata": {},
   "source": [
    "### Save the number of rows and columns as a tuple"
   ]
  },
  {
   "cell_type": "code",
   "execution_count": null,
   "id": "8d5a31f9",
   "metadata": {},
   "outputs": [],
   "source": [
    "rows_and_cols = traffic_df.shape\n",
    "print('There are {} rows and {} columns.\\n'.format(\n",
    "    rows_and_cols[0], rows_and_cols[1]))"
   ]
  },
  {
   "cell_type": "code",
   "execution_count": null,
   "id": "083eba58",
   "metadata": {},
   "outputs": [],
   "source": [
    "# compile the list of dataframes to be merged\n",
    "data_frames = [car_accident0, car_accident1, car_accident2,car_accident3, car_accident4]"
   ]
  },
  {
   "cell_type": "code",
   "execution_count": null,
   "id": "37d86412",
   "metadata": {},
   "outputs": [],
   "source": [
    "traffic_2021 = pd.concat([traffic_df, h_weather, d_weather], sort=True)\n",
    "traffic_2021.head(2)"
   ]
  },
  {
   "cell_type": "code",
   "execution_count": null,
   "id": "8dca7b48",
   "metadata": {},
   "outputs": [],
   "source": [
    "#The amount in brackets will populate. \n",
    "print('There are {} accidents in the data'.format(len(car_accidents_2010_2020)))"
   ]
  },
  {
   "cell_type": "code",
   "execution_count": null,
   "id": "6d2bebea",
   "metadata": {},
   "outputs": [],
   "source": []
  },
  {
   "cell_type": "code",
   "execution_count": null,
   "id": "472e15f4",
   "metadata": {},
   "outputs": [],
   "source": [
    "#dropping columns\n",
    "pd.set_option('display.max_columns', 1000)\n",
    "df.drop(['property_damage', 'accident_number', 'reporting_officer', 'collision_type', 'weather', 'illumination', \n",
    "         'harmful_codes', 'state_name', 'rpa', 'geocoded_column', ':@computed_region_wvby_4s8j', \n",
    "         ':@computed_region_3aw5_2wv7', ':@computed_region_p6sk_2acq', ':@computed_region_gxvr_9jxz',\n",
    "         'property_damage'], axis=1, inplace=True)\n",
    "df.tail()\n",
    "\n",
    "# columns listed\n",
    "'Region', 'Incident ID', 'Incident Type', 'Full Location ',\n",
    "       'Start Date', 'Start Time', 'Duration (mins)', 'Lanes\\nBlocked',\n",
    "       'Blockage\\nDuration', 'Resp Time', 'Rural/\\nUrban', 'Key ', 'County',\n",
    "       'Interstate', 'Route', 'Direction', 'Unnamed: 16', 'Description',\n",
    "       'Inc Mile Marker', 'Latitude', 'Longitude'"
   ]
  },
  {
   "cell_type": "code",
   "execution_count": null,
   "id": "4ea9772e",
   "metadata": {},
   "outputs": [],
   "source": []
  },
  {
   "cell_type": "code",
   "execution_count": null,
   "id": "5fb0c771",
   "metadata": {},
   "outputs": [],
   "source": []
  },
  {
   "cell_type": "markdown",
   "id": "489d6f29",
   "metadata": {},
   "source": [
    "### top _ sorted "
   ]
  },
  {
   "cell_type": "code",
   "execution_count": null,
   "id": "6157c41c",
   "metadata": {},
   "outputs": [],
   "source": [
    "gdp_and_internet_use_2014.sort_values(by = 'Internet_Users_Pct', ascending = False).head()"
   ]
  },
  {
   "cell_type": "code",
   "execution_count": null,
   "id": "cc628f9e",
   "metadata": {},
   "outputs": [],
   "source": []
  },
  {
   "cell_type": "markdown",
   "id": "d9733f84",
   "metadata": {},
   "source": [
    "### Reviewing Weather Data"
   ]
  },
  {
   "cell_type": "code",
   "execution_count": null,
   "id": "7da3922d",
   "metadata": {},
   "outputs": [],
   "source": [
    "h_weather.head()"
   ]
  },
  {
   "cell_type": "code",
   "execution_count": null,
   "id": "07a11236",
   "metadata": {},
   "outputs": [],
   "source": [
    "h_weather.columns"
   ]
  },
  {
   "cell_type": "code",
   "execution_count": null,
   "id": "adf71b57",
   "metadata": {},
   "outputs": [],
   "source": [
    "d_weather.head()"
   ]
  },
  {
   "cell_type": "code",
   "execution_count": null,
   "id": "0c4ad246",
   "metadata": {},
   "outputs": [],
   "source": [
    "d_weather.columns"
   ]
  },
  {
   "cell_type": "code",
   "execution_count": null,
   "id": "2bd8e2b8",
   "metadata": {},
   "outputs": [],
   "source": []
  },
  {
   "cell_type": "markdown",
   "id": "4f5a05c0",
   "metadata": {},
   "source": [
    "### Date/Time"
   ]
  },
  {
   "cell_type": "code",
   "execution_count": null,
   "id": "a1913737",
   "metadata": {},
   "outputs": [],
   "source": [
    "car_accidents_2010_2020['DateTime'] = pd.to_datetime(car_accidents_2010_2020['Date and Time'])\n",
    "car_accidents_2010_2020['date'] = car_accidents_2010_2020['DateTime'].dt.date\n",
    "car_accidents_2010_2020['time'] = car_accidents_2010_2020['DateTime'].dt.time"
   ]
  },
  {
   "cell_type": "code",
   "execution_count": null,
   "id": "8e2900ea",
   "metadata": {},
   "outputs": [],
   "source": [
    "car_accidents_2010_2020 = car_accidents_2010_2020.set_index('DateTime')\n",
    "car_accidents_2010_2020.head(3)"
   ]
  },
  {
   "cell_type": "code",
   "execution_count": null,
   "id": "cb14be5e",
   "metadata": {},
   "outputs": [],
   "source": []
  },
  {
   "cell_type": "markdown",
   "id": "10826dec",
   "metadata": {},
   "source": [
    "### Histographs"
   ]
  },
  {
   "cell_type": "code",
   "execution_count": null,
   "id": "0c78a764",
   "metadata": {},
   "outputs": [],
   "source": [
    "traffic_df['column name'].value_counts()"
   ]
  },
  {
   "cell_type": "code",
   "execution_count": null,
   "id": "5a21825b",
   "metadata": {},
   "outputs": [],
   "source": [
    "traffic_df['number_of_motor_vehicles'] = pd.to_numeric(traffic_df['number_of_motor_vehicles'])  \n",
    "                                                                        \n",
    "traffic_df.hist(['number_of_motor_vehicles'])"
   ]
  },
  {
   "cell_type": "code",
   "execution_count": null,
   "id": "fe87c6d4",
   "metadata": {},
   "outputs": [],
   "source": []
  },
  {
   "cell_type": "code",
   "execution_count": null,
   "id": "1a3001dd",
   "metadata": {},
   "outputs": [],
   "source": [
    "car_accidents_2010_2020['Collision Type'].value_counts(normalize=True).sort_index().plot.bar()\n",
    "plt.grid()\n",
    "plt.title('collision Type')\n",
    "plt.xlabel('Collision Type')\n",
    "plt.ylabel('Fraction');"
   ]
  },
  {
   "cell_type": "code",
   "execution_count": null,
   "id": "200bebb7",
   "metadata": {},
   "outputs": [],
   "source": [
    "car_accidents_2010_2020['Collision Type'].value_counts().plot.bar()\n",
    "plt.grid()\n",
    "plt.title('collision Type')\n",
    "plt.xlabel('Collision Type')\n",
    "plt.ylabel('Fraction');"
   ]
  },
  {
   "cell_type": "code",
   "execution_count": null,
   "id": "afb7d06a",
   "metadata": {},
   "outputs": [],
   "source": [
    "car_accidents_2010_2020['Collision Type Description'].value_counts(normalize=True).sort_index().plot.bar()\n",
    "plt.grid()\n",
    "plt.title('Collision Type Description')\n",
    "plt.xlabel('Collision Type Description')\n",
    "plt.ylabel('Fraction');"
   ]
  },
  {
   "cell_type": "code",
   "execution_count": null,
   "id": "f5b62a90",
   "metadata": {},
   "outputs": [],
   "source": [
    "car_accidents_2010_2020['Collision Type Description'].value_counts().plot.bar()\n",
    "plt.grid()\n",
    "plt.title('Collision Type Description')\n",
    "plt.xlabel('Collision Type Description')\n",
    "plt.ylabel('Total count');"
   ]
  },
  {
   "cell_type": "code",
   "execution_count": null,
   "id": "5da84738",
   "metadata": {},
   "outputs": [],
   "source": []
  },
  {
   "cell_type": "code",
   "execution_count": null,
   "id": "3acfb13d",
   "metadata": {},
   "outputs": [],
   "source": [
    "car_accidents_2010_2020['Weekday'] = car_accidents_2010_2020.index.weekday_name\n",
    "weekday = car_accidents_2010_2020.groupby('Weekday')['Accident Number'].count()\n",
    "weekday = weekday/weekday.sum()\n",
    "dayOfWeek=['Monday','Tuesday','Wednesday','Thursday','Friday','Saturday','Sunday']\n",
    "weekday[dayOfWeek].plot.bar()\n",
    "plt.title('Acccidents by Weekday')\n",
    "plt.xlabel('Weekday')\n",
    "plt.ylabel('Accidents');"
   ]
  },
  {
   "cell_type": "code",
   "execution_count": null,
   "id": "48bcf55d",
   "metadata": {},
   "outputs": [],
   "source": []
  },
  {
   "cell_type": "code",
   "execution_count": null,
   "id": "dfedc90f",
   "metadata": {},
   "outputs": [],
   "source": [
    "years = ['2010','2011','2012','2013', '2014', '2015', '2016', '2017', '2018', '2019']\n",
    "fig, _ = plt.subplots(1,10,figsize=(21,7), sharex='all', sharey='all')\n",
    "\n",
    "fig.suptitle('Acccidents by Weekday for Different Years')\n",
    "plt.xlabel('Weekday')\n",
    "plt.ylabel('Accidents')\n",
    "for i, year in enumerate(years,1):\n",
    "    weekday = car_accidents_2010_2020.loc[year].groupby('Weekday')['Accident Number'].count()\n",
    "    weekday = weekday/weekday.sum()\n",
    "    dayOfWeek=['Monday','Tuesday','Wednesday','Thursday','Friday','Saturday','Sunday']\n",
    "    plt.subplot(1,10,i)\n",
    "    plt.title(year)\n",
    "    weekday[dayOfWeek].plot.bar()"
   ]
  },
  {
   "cell_type": "code",
   "execution_count": null,
   "id": "34f88d32",
   "metadata": {},
   "outputs": [],
   "source": []
  },
  {
   "cell_type": "code",
   "execution_count": null,
   "id": "3d6e0dce",
   "metadata": {},
   "outputs": [],
   "source": []
  },
  {
   "cell_type": "code",
   "execution_count": null,
   "id": "270f9636",
   "metadata": {},
   "outputs": [],
   "source": []
  },
  {
   "cell_type": "markdown",
   "id": "24448ad6",
   "metadata": {},
   "source": [
    "### Create scatterplots"
   ]
  },
  {
   "cell_type": "code",
   "execution_count": null,
   "id": "18563b4f",
   "metadata": {},
   "outputs": [],
   "source": [
    "plt.figure(figsize = (15,10))\n",
    "sns.scatterplot(x = 'Internet_Users_Pct', y = 'GDP_Per_Capita', data = gdp_and_internet_use_2004, alpha = 0.9)\n",
    "plt.title('2004 Percent Using the Internet vs GDP Per Capita', fontsize = 15)\n",
    "plt.xlabel('Percentage of Internet Users', fontsize = 12)\n",
    "plt.ylabel('GDP Per Capita', fontsize = 12)"
   ]
  },
  {
   "cell_type": "code",
   "execution_count": null,
   "id": "234370eb",
   "metadata": {},
   "outputs": [],
   "source": []
  },
  {
   "cell_type": "code",
   "execution_count": null,
   "id": "6e1261f5",
   "metadata": {},
   "outputs": [],
   "source": []
  },
  {
   "cell_type": "code",
   "execution_count": null,
   "id": "1302d86a",
   "metadata": {},
   "outputs": [],
   "source": []
  },
  {
   "cell_type": "code",
   "execution_count": null,
   "id": "3648e485",
   "metadata": {},
   "outputs": [],
   "source": [
    "# distribution of gdp per capita \n",
    "ax = sns.distplot(gdp_and_internet_use.gdp_percapita,\n",
    "                 bins = 25,\n",
    "                  hist_kw={'alpha' :.2})\n",
    "ax.set(xlabel = 'GDP per Capita', ylabel = 'Frequency')"
   ]
  },
  {
   "cell_type": "code",
   "execution_count": null,
   "id": "f69f04f6",
   "metadata": {},
   "outputs": [],
   "source": []
  },
  {
   "cell_type": "code",
   "execution_count": null,
   "id": "5459cdec",
   "metadata": {},
   "outputs": [],
   "source": [
    "#internet use\n",
    "ax = sns.distplot(gdp_and_internet_use.Internet_Users_Pct,\n",
    "                 bins = 25,\n",
    "                  color  = 'green',\n",
    "                  hist_kw={'alpha':.4})\n",
    "ax.set(xlabel = 'Internet User Pct', ylabel = 'Frequency')"
   ]
  },
  {
   "cell_type": "code",
   "execution_count": null,
   "id": "7dd3ce87",
   "metadata": {},
   "outputs": [],
   "source": []
  },
  {
   "cell_type": "code",
   "execution_count": null,
   "id": "a0c85659",
   "metadata": {},
   "outputs": [],
   "source": []
  },
  {
   "cell_type": "code",
   "execution_count": null,
   "id": "5179a1ed",
   "metadata": {},
   "outputs": [],
   "source": [
    "years = ['2010','2011','2012','2013', '2014', '2015', '2016', '2017', '2018', '2019']\n",
    "fig, _ = plt.subplots(1,10, figsize=(44,8), sharex='all', sharey='all')\n",
    "\n",
    "fig.suptitle('Acccidents by month for Different Years')\n",
    "plt.xlabel('month')\n",
    "plt.ylabel('Accidents')\n",
    "for i, year in enumerate(years,1):\n",
    "    plt.subplot(1,10,i)\n",
    "    sample = car_accidents_2010_2020.loc[year]['Accident Number'].resample('M').count()\n",
    "    sample.plot()\n",
    "    plt.ylim(0,8000)\n",
    "    plt.title('Accidents, {} count'.format(text))\n",
    "    plt.xlabel('Year')\n",
    "    plt.ylabel('Accident Count');"
   ]
  },
  {
   "cell_type": "code",
   "execution_count": null,
   "id": "c1536644",
   "metadata": {},
   "outputs": [],
   "source": []
  },
  {
   "cell_type": "code",
   "execution_count": null,
   "id": "a01fcf6d",
   "metadata": {},
   "outputs": [],
   "source": []
  },
  {
   "cell_type": "code",
   "execution_count": null,
   "id": "8280b515",
   "metadata": {},
   "outputs": [],
   "source": []
  },
  {
   "cell_type": "code",
   "execution_count": null,
   "id": "1ac4cab2",
   "metadata": {},
   "outputs": [],
   "source": [
    "#extracting dataframe into a csv file\n",
    "df.to_csv('../data/___df.csv')"
   ]
  }
 ],
 "metadata": {
  "kernelspec": {
   "display_name": "Python [conda env:geospatial]",
   "language": "python",
   "name": "conda-env-geospatial-py"
  },
  "language_info": {
   "codemirror_mode": {
    "name": "ipython",
    "version": 3
   },
   "file_extension": ".py",
   "mimetype": "text/x-python",
   "name": "python",
   "nbconvert_exporter": "python",
   "pygments_lexer": "ipython3",
   "version": "3.8.5"
  }
 },
 "nbformat": 4,
 "nbformat_minor": 5
}
