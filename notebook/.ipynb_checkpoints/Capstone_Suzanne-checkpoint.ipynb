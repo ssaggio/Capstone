{
 "cells": [
  {
   "cell_type": "markdown",
   "id": "627082ed",
   "metadata": {},
   "source": [
    "# Traffic Incident Management in Nashville, TN"
   ]
  },
  {
   "cell_type": "markdown",
   "id": "b12993b0",
   "metadata": {},
   "source": [
    "### Loading the libraries"
   ]
  },
  {
   "cell_type": "code",
   "execution_count": 1,
   "id": "3dc753bb",
   "metadata": {},
   "outputs": [],
   "source": [
    "import pandas as pd\n",
    "import seaborn as sns\n",
    "import numpy as np\n",
    "import matplotlib.pyplot as plt\n",
    "import datetime\n",
    "import math\n",
    "import re\n",
    "\n",
    "#from shapely.geometry import Point\n",
    "#import geopandas as gpd\n",
    "#import folium\n",
    "#from folium.plugins import MarkerCluster\n",
    "#from folium.plugins import FastMarkerCluster\n",
    "\n",
    "%matplotlib inline"
   ]
  },
  {
   "cell_type": "markdown",
   "id": "d173ef3e",
   "metadata": {},
   "source": [
    "### Importing the data"
   ]
  },
  {
   "cell_type": "code",
   "execution_count": 2,
   "id": "a781c07b",
   "metadata": {},
   "outputs": [],
   "source": [
    "traffic_df = pd.read_excel('../data/MASTER File.xlsx')\n",
    "d_weather = pd.read_excel('../data/Daily Weather Formatted.xlsx')\n",
    "h_weather = pd.read_excel('../data/Hourly Weather Formatted.xlsx')"
   ]
  },
  {
   "cell_type": "markdown",
   "id": "40c3b5e7",
   "metadata": {},
   "source": [
    "### Reviewing the Traffic Dataframe"
   ]
  },
  {
   "cell_type": "code",
   "execution_count": 3,
   "id": "9ea3cb76",
   "metadata": {},
   "outputs": [
    {
     "name": "stdout",
     "output_type": "stream",
     "text": [
      "(33730, 21)\n"
     ]
    }
   ],
   "source": [
    "print(traffic_df.shape)"
   ]
  },
  {
   "cell_type": "code",
   "execution_count": null,
   "id": "1eb4ac29",
   "metadata": {},
   "outputs": [],
   "source": [
    "#keep in case\n",
    "#print(traffic_df.crs)"
   ]
  },
  {
   "cell_type": "code",
   "execution_count": 4,
   "id": "d1581905",
   "metadata": {},
   "outputs": [
    {
     "data": {
      "text/html": [
       "<div>\n",
       "<style scoped>\n",
       "    .dataframe tbody tr th:only-of-type {\n",
       "        vertical-align: middle;\n",
       "    }\n",
       "\n",
       "    .dataframe tbody tr th {\n",
       "        vertical-align: top;\n",
       "    }\n",
       "\n",
       "    .dataframe thead th {\n",
       "        text-align: right;\n",
       "    }\n",
       "</style>\n",
       "<table border=\"1\" class=\"dataframe\">\n",
       "  <thead>\n",
       "    <tr style=\"text-align: right;\">\n",
       "      <th></th>\n",
       "      <th>Region</th>\n",
       "      <th>Incident ID</th>\n",
       "      <th>Incident Type</th>\n",
       "      <th>Full Location</th>\n",
       "      <th>Start Date</th>\n",
       "      <th>Start Time</th>\n",
       "      <th>Duration (mins)</th>\n",
       "      <th>Lanes\\nBlocked</th>\n",
       "      <th>Blockage\\nDuration</th>\n",
       "      <th>Resp Time</th>\n",
       "      <th>...</th>\n",
       "      <th>Key</th>\n",
       "      <th>County</th>\n",
       "      <th>Interstate</th>\n",
       "      <th>Route</th>\n",
       "      <th>Direction</th>\n",
       "      <th>Unnamed: 16</th>\n",
       "      <th>Description</th>\n",
       "      <th>Inc MM</th>\n",
       "      <th>Long</th>\n",
       "      <th>Lat</th>\n",
       "    </tr>\n",
       "  </thead>\n",
       "  <tbody>\n",
       "    <tr>\n",
       "      <th>0</th>\n",
       "      <td>3</td>\n",
       "      <td>726</td>\n",
       "      <td>MultiVehicle Crash</td>\n",
       "      <td>DAVIDSON on Interstate 40 Westbound, Beyond MI...</td>\n",
       "      <td>2020-11-12 10:25:06</td>\n",
       "      <td>2020-11-12 10:25:06</td>\n",
       "      <td>100.250000</td>\n",
       "      <td>0</td>\n",
       "      <td>NaN</td>\n",
       "      <td>NaN</td>\n",
       "      <td>...</td>\n",
       "      <td>1</td>\n",
       "      <td>DAVIDSON</td>\n",
       "      <td>I-40W</td>\n",
       "      <td>I-40</td>\n",
       "      <td>Westbound</td>\n",
       "      <td>Beyond</td>\n",
       "      <td>MILE MARKER 213.2</td>\n",
       "      <td>213.2</td>\n",
       "      <td>36.140377</td>\n",
       "      <td>-86.723936</td>\n",
       "    </tr>\n",
       "    <tr>\n",
       "      <th>1</th>\n",
       "      <td>3</td>\n",
       "      <td>728</td>\n",
       "      <td>Disabled Vehicle</td>\n",
       "      <td>DAVIDSON on Interstate 65 Northbound, Before M...</td>\n",
       "      <td>2020-11-12 10:35:05</td>\n",
       "      <td>2020-11-12 10:35:05</td>\n",
       "      <td>102.366667</td>\n",
       "      <td>0</td>\n",
       "      <td>NaN</td>\n",
       "      <td>0.066667</td>\n",
       "      <td>...</td>\n",
       "      <td>2</td>\n",
       "      <td>DAVIDSON</td>\n",
       "      <td>I-65N</td>\n",
       "      <td>I-65</td>\n",
       "      <td>Northbound</td>\n",
       "      <td>Before</td>\n",
       "      <td>MILE MARKER 80.6</td>\n",
       "      <td>80.6</td>\n",
       "      <td>36.122863</td>\n",
       "      <td>-86.773113</td>\n",
       "    </tr>\n",
       "    <tr>\n",
       "      <th>2</th>\n",
       "      <td>3</td>\n",
       "      <td>732</td>\n",
       "      <td>Abandoned Vehicle</td>\n",
       "      <td>DAVIDSON on Interstate 24 Eastbound, Before MI...</td>\n",
       "      <td>2020-11-12 10:59:43</td>\n",
       "      <td>2020-11-12 10:59:43</td>\n",
       "      <td>1689.666667</td>\n",
       "      <td>0</td>\n",
       "      <td>NaN</td>\n",
       "      <td>0.033333</td>\n",
       "      <td>...</td>\n",
       "      <td>3</td>\n",
       "      <td>DAVIDSON</td>\n",
       "      <td>I-24E</td>\n",
       "      <td>I-24</td>\n",
       "      <td>Eastbound</td>\n",
       "      <td>Before</td>\n",
       "      <td>MILE MARKER 53.6</td>\n",
       "      <td>53.6</td>\n",
       "      <td>36.069483</td>\n",
       "      <td>-86.689540</td>\n",
       "    </tr>\n",
       "    <tr>\n",
       "      <th>3</th>\n",
       "      <td>3</td>\n",
       "      <td>735</td>\n",
       "      <td>Disabled Vehicle</td>\n",
       "      <td>RUTHERFORD on Interstate 24 Eastbound, Before ...</td>\n",
       "      <td>2020-11-12 11:04:04</td>\n",
       "      <td>2020-11-12 11:04:04</td>\n",
       "      <td>54.866667</td>\n",
       "      <td>0</td>\n",
       "      <td>NaN</td>\n",
       "      <td>NaN</td>\n",
       "      <td>...</td>\n",
       "      <td>4</td>\n",
       "      <td>RUTHERFORD</td>\n",
       "      <td>I-24E</td>\n",
       "      <td>I-24</td>\n",
       "      <td>Eastbound</td>\n",
       "      <td>Before</td>\n",
       "      <td>MILE MARKER 63.2</td>\n",
       "      <td>63.2</td>\n",
       "      <td>36.006956</td>\n",
       "      <td>-86.612243</td>\n",
       "    </tr>\n",
       "    <tr>\n",
       "      <th>4</th>\n",
       "      <td>3</td>\n",
       "      <td>736</td>\n",
       "      <td>Abandoned Vehicle</td>\n",
       "      <td>DAVIDSON on Interstate 40 Westbound, Before MI...</td>\n",
       "      <td>2020-11-12 11:05:09</td>\n",
       "      <td>2020-11-12 11:05:09</td>\n",
       "      <td>1223.716667</td>\n",
       "      <td>1</td>\n",
       "      <td>11.683333</td>\n",
       "      <td>0.016667</td>\n",
       "      <td>...</td>\n",
       "      <td>5</td>\n",
       "      <td>DAVIDSON</td>\n",
       "      <td>I-40W</td>\n",
       "      <td>I-40</td>\n",
       "      <td>Westbound</td>\n",
       "      <td>Before</td>\n",
       "      <td>MILE MARKER 210.2</td>\n",
       "      <td>210.2</td>\n",
       "      <td>36.149870</td>\n",
       "      <td>-86.772461</td>\n",
       "    </tr>\n",
       "  </tbody>\n",
       "</table>\n",
       "<p>5 rows × 21 columns</p>\n",
       "</div>"
      ],
      "text/plain": [
       "   Region  Incident ID       Incident Type  \\\n",
       "0       3          726  MultiVehicle Crash   \n",
       "1       3          728    Disabled Vehicle   \n",
       "2       3          732   Abandoned Vehicle   \n",
       "3       3          735    Disabled Vehicle   \n",
       "4       3          736   Abandoned Vehicle   \n",
       "\n",
       "                                      Full Location           Start Date  \\\n",
       "0  DAVIDSON on Interstate 40 Westbound, Beyond MI... 2020-11-12 10:25:06   \n",
       "1  DAVIDSON on Interstate 65 Northbound, Before M... 2020-11-12 10:35:05   \n",
       "2  DAVIDSON on Interstate 24 Eastbound, Before MI... 2020-11-12 10:59:43   \n",
       "3  RUTHERFORD on Interstate 24 Eastbound, Before ... 2020-11-12 11:04:04   \n",
       "4  DAVIDSON on Interstate 40 Westbound, Before MI... 2020-11-12 11:05:09   \n",
       "\n",
       "           Start Time  Duration (mins)  Lanes\\nBlocked  Blockage\\nDuration  \\\n",
       "0 2020-11-12 10:25:06       100.250000               0                 NaN   \n",
       "1 2020-11-12 10:35:05       102.366667               0                 NaN   \n",
       "2 2020-11-12 10:59:43      1689.666667               0                 NaN   \n",
       "3 2020-11-12 11:04:04        54.866667               0                 NaN   \n",
       "4 2020-11-12 11:05:09      1223.716667               1           11.683333   \n",
       "\n",
       "   Resp Time  ... Key       County Interstate Route   Direction Unnamed: 16  \\\n",
       "0        NaN  ...    1    DAVIDSON      I-40W  I-40   Westbound      Beyond   \n",
       "1   0.066667  ...    2    DAVIDSON      I-65N  I-65  Northbound      Before   \n",
       "2   0.033333  ...    3    DAVIDSON      I-24E  I-24   Eastbound      Before   \n",
       "3        NaN  ...    4  RUTHERFORD      I-24E  I-24   Eastbound      Before   \n",
       "4   0.016667  ...    5    DAVIDSON      I-40W  I-40   Westbound      Before   \n",
       "\n",
       "                   Description Inc MM      Long         Lat  \n",
       "0  MILE MARKER 213.2            213.2  36.140377 -86.723936  \n",
       "1   MILE MARKER 80.6             80.6  36.122863 -86.773113  \n",
       "2   MILE MARKER 53.6             53.6  36.069483 -86.689540  \n",
       "3   MILE MARKER 63.2             63.2  36.006956 -86.612243  \n",
       "4  MILE MARKER 210.2            210.2  36.149870 -86.772461  \n",
       "\n",
       "[5 rows x 21 columns]"
      ]
     },
     "execution_count": 4,
     "metadata": {},
     "output_type": "execute_result"
    }
   ],
   "source": [
    "traffic_df.head()"
   ]
  },
  {
   "cell_type": "code",
   "execution_count": 5,
   "id": "92bb8232",
   "metadata": {},
   "outputs": [
    {
     "data": {
      "text/html": [
       "<div>\n",
       "<style scoped>\n",
       "    .dataframe tbody tr th:only-of-type {\n",
       "        vertical-align: middle;\n",
       "    }\n",
       "\n",
       "    .dataframe tbody tr th {\n",
       "        vertical-align: top;\n",
       "    }\n",
       "\n",
       "    .dataframe thead th {\n",
       "        text-align: right;\n",
       "    }\n",
       "</style>\n",
       "<table border=\"1\" class=\"dataframe\">\n",
       "  <thead>\n",
       "    <tr style=\"text-align: right;\">\n",
       "      <th></th>\n",
       "      <th>Region</th>\n",
       "      <th>Incident ID</th>\n",
       "      <th>Incident Type</th>\n",
       "      <th>Full Location</th>\n",
       "      <th>Start Date</th>\n",
       "      <th>Start Time</th>\n",
       "      <th>Duration (mins)</th>\n",
       "      <th>Lanes\\nBlocked</th>\n",
       "      <th>Blockage\\nDuration</th>\n",
       "      <th>Resp Time</th>\n",
       "      <th>...</th>\n",
       "      <th>Key</th>\n",
       "      <th>County</th>\n",
       "      <th>Interstate</th>\n",
       "      <th>Route</th>\n",
       "      <th>Direction</th>\n",
       "      <th>Unnamed: 16</th>\n",
       "      <th>Description</th>\n",
       "      <th>Inc MM</th>\n",
       "      <th>Long</th>\n",
       "      <th>Lat</th>\n",
       "    </tr>\n",
       "  </thead>\n",
       "  <tbody>\n",
       "    <tr>\n",
       "      <th>33725</th>\n",
       "      <td>3</td>\n",
       "      <td>106619</td>\n",
       "      <td>MultiVehicle Crash</td>\n",
       "      <td>DAVIDSON on Interstate 65 Northbound, Before M...</td>\n",
       "      <td>2021-10-31 19:53:00</td>\n",
       "      <td>2021-10-31 19:53:00</td>\n",
       "      <td>56.266667</td>\n",
       "      <td>4</td>\n",
       "      <td>54.716667</td>\n",
       "      <td>0.016667</td>\n",
       "      <td>...</td>\n",
       "      <td>37441</td>\n",
       "      <td>DAVIDSON</td>\n",
       "      <td>I-65N</td>\n",
       "      <td>I-65</td>\n",
       "      <td>Northbound</td>\n",
       "      <td>Before</td>\n",
       "      <td>MILE MARKER 89.2</td>\n",
       "      <td>89.2</td>\n",
       "      <td>36.243690</td>\n",
       "      <td>-86.747989</td>\n",
       "    </tr>\n",
       "    <tr>\n",
       "      <th>33726</th>\n",
       "      <td>3</td>\n",
       "      <td>106622</td>\n",
       "      <td>MultiVehicle Crash</td>\n",
       "      <td>DAVIDSON on Interstate 24 Eastbound, Before MI...</td>\n",
       "      <td>2021-10-31 21:07:25</td>\n",
       "      <td>2021-10-31 21:07:25</td>\n",
       "      <td>45.716667</td>\n",
       "      <td>0</td>\n",
       "      <td>NaN</td>\n",
       "      <td>NaN</td>\n",
       "      <td>...</td>\n",
       "      <td>37442</td>\n",
       "      <td>DAVIDSON</td>\n",
       "      <td>I-24E</td>\n",
       "      <td>I-24</td>\n",
       "      <td>Eastbound</td>\n",
       "      <td>Before</td>\n",
       "      <td>MILE MARKER 49.6</td>\n",
       "      <td>49.6</td>\n",
       "      <td>36.118762</td>\n",
       "      <td>-86.726264</td>\n",
       "    </tr>\n",
       "    <tr>\n",
       "      <th>33727</th>\n",
       "      <td>3</td>\n",
       "      <td>106623</td>\n",
       "      <td>MultiVehicle Crash</td>\n",
       "      <td>DAVIDSON on Interstate 40 Eastbound, Before MI...</td>\n",
       "      <td>2021-10-31 21:35:15</td>\n",
       "      <td>2021-10-31 21:35:15</td>\n",
       "      <td>48.816667</td>\n",
       "      <td>2</td>\n",
       "      <td>48.366667</td>\n",
       "      <td>0.016667</td>\n",
       "      <td>...</td>\n",
       "      <td>37443</td>\n",
       "      <td>DAVIDSON</td>\n",
       "      <td>I-40E</td>\n",
       "      <td>I-40</td>\n",
       "      <td>Eastbound</td>\n",
       "      <td>Before</td>\n",
       "      <td>MILE MARKER 214.4</td>\n",
       "      <td>214.4</td>\n",
       "      <td>36.143086</td>\n",
       "      <td>-86.705514</td>\n",
       "    </tr>\n",
       "    <tr>\n",
       "      <th>33728</th>\n",
       "      <td>3</td>\n",
       "      <td>106624</td>\n",
       "      <td>Single Vehicle Crash</td>\n",
       "      <td>RUTHERFORD on Interstate 24 Eastbound, Before ...</td>\n",
       "      <td>2021-10-31 21:39:04</td>\n",
       "      <td>2021-10-31 21:39:04</td>\n",
       "      <td>117.783333</td>\n",
       "      <td>2</td>\n",
       "      <td>109.950000</td>\n",
       "      <td>0.016667</td>\n",
       "      <td>...</td>\n",
       "      <td>37444</td>\n",
       "      <td>RUTHERFORD</td>\n",
       "      <td>I-24E</td>\n",
       "      <td>I-24</td>\n",
       "      <td>Eastbound</td>\n",
       "      <td>Before</td>\n",
       "      <td>MILE MARKER 82.8</td>\n",
       "      <td>82.8</td>\n",
       "      <td>35.797571</td>\n",
       "      <td>-86.380669</td>\n",
       "    </tr>\n",
       "    <tr>\n",
       "      <th>33729</th>\n",
       "      <td>3</td>\n",
       "      <td>106625</td>\n",
       "      <td>MultiVehicle Crash</td>\n",
       "      <td>DAVIDSON on Interstate 24 Westbound, Before MI...</td>\n",
       "      <td>2021-10-31 23:56:32</td>\n",
       "      <td>2021-10-31 23:56:32</td>\n",
       "      <td>139.450000</td>\n",
       "      <td>2</td>\n",
       "      <td>23.783333</td>\n",
       "      <td>0.066667</td>\n",
       "      <td>...</td>\n",
       "      <td>37445</td>\n",
       "      <td>DAVIDSON</td>\n",
       "      <td>I-24W</td>\n",
       "      <td>I-24</td>\n",
       "      <td>Westbound</td>\n",
       "      <td>Before</td>\n",
       "      <td>MILE MARKER 57.8</td>\n",
       "      <td>57.8</td>\n",
       "      <td>36.026100</td>\n",
       "      <td>-86.633589</td>\n",
       "    </tr>\n",
       "  </tbody>\n",
       "</table>\n",
       "<p>5 rows × 21 columns</p>\n",
       "</div>"
      ],
      "text/plain": [
       "       Region  Incident ID         Incident Type  \\\n",
       "33725       3       106619    MultiVehicle Crash   \n",
       "33726       3       106622    MultiVehicle Crash   \n",
       "33727       3       106623    MultiVehicle Crash   \n",
       "33728       3       106624  Single Vehicle Crash   \n",
       "33729       3       106625    MultiVehicle Crash   \n",
       "\n",
       "                                          Full Location           Start Date  \\\n",
       "33725  DAVIDSON on Interstate 65 Northbound, Before M... 2021-10-31 19:53:00   \n",
       "33726  DAVIDSON on Interstate 24 Eastbound, Before MI... 2021-10-31 21:07:25   \n",
       "33727  DAVIDSON on Interstate 40 Eastbound, Before MI... 2021-10-31 21:35:15   \n",
       "33728  RUTHERFORD on Interstate 24 Eastbound, Before ... 2021-10-31 21:39:04   \n",
       "33729  DAVIDSON on Interstate 24 Westbound, Before MI... 2021-10-31 23:56:32   \n",
       "\n",
       "               Start Time  Duration (mins)  Lanes\\nBlocked  \\\n",
       "33725 2021-10-31 19:53:00        56.266667               4   \n",
       "33726 2021-10-31 21:07:25        45.716667               0   \n",
       "33727 2021-10-31 21:35:15        48.816667               2   \n",
       "33728 2021-10-31 21:39:04       117.783333               2   \n",
       "33729 2021-10-31 23:56:32       139.450000               2   \n",
       "\n",
       "       Blockage\\nDuration  Resp Time  ...   Key       County Interstate Route  \\\n",
       "33725           54.716667   0.016667  ...  37441    DAVIDSON      I-65N  I-65   \n",
       "33726                 NaN        NaN  ...  37442    DAVIDSON      I-24E  I-24   \n",
       "33727           48.366667   0.016667  ...  37443    DAVIDSON      I-40E  I-40   \n",
       "33728          109.950000   0.016667  ...  37444  RUTHERFORD      I-24E  I-24   \n",
       "33729           23.783333   0.066667  ...  37445    DAVIDSON      I-24W  I-24   \n",
       "\n",
       "        Direction Unnamed: 16                  Description Inc MM      Long   \\\n",
       "33725  Northbound      Before   MILE MARKER 89.2             89.2  36.243690   \n",
       "33726   Eastbound      Before   MILE MARKER 49.6             49.6  36.118762   \n",
       "33727   Eastbound      Before  MILE MARKER 214.4            214.4  36.143086   \n",
       "33728   Eastbound      Before   MILE MARKER 82.8             82.8  35.797571   \n",
       "33729   Westbound      Before   MILE MARKER 57.8             57.8  36.026100   \n",
       "\n",
       "             Lat  \n",
       "33725 -86.747989  \n",
       "33726 -86.726264  \n",
       "33727 -86.705514  \n",
       "33728 -86.380669  \n",
       "33729 -86.633589  \n",
       "\n",
       "[5 rows x 21 columns]"
      ]
     },
     "execution_count": 5,
     "metadata": {},
     "output_type": "execute_result"
    }
   ],
   "source": [
    "traffic_df.tail()"
   ]
  },
  {
   "cell_type": "code",
   "execution_count": 6,
   "id": "a3fbd7fa",
   "metadata": {},
   "outputs": [
    {
     "name": "stdout",
     "output_type": "stream",
     "text": [
      "<class 'pandas.core.frame.DataFrame'>\n",
      "RangeIndex: 33730 entries, 0 to 33729\n",
      "Data columns (total 21 columns):\n",
      " #   Column             Non-Null Count  Dtype         \n",
      "---  ------             --------------  -----         \n",
      " 0   Region             33730 non-null  int64         \n",
      " 1   Incident ID        33730 non-null  int64         \n",
      " 2   Incident Type      33730 non-null  object        \n",
      " 3   Full Location      33730 non-null  object        \n",
      " 4   Start Date         33730 non-null  datetime64[ns]\n",
      " 5   Start Time         33730 non-null  datetime64[ns]\n",
      " 6   Duration (mins)    33730 non-null  float64       \n",
      " 7   Lanes\n",
      "Blocked      33730 non-null  int64         \n",
      " 8   Blockage\n",
      "Duration  9208 non-null   float64       \n",
      " 9   Resp Time          29366 non-null  float64       \n",
      " 10  Rural/\n",
      "Urban       33730 non-null  object        \n",
      " 11  Key                33730 non-null  int64         \n",
      " 12  County             33730 non-null  object        \n",
      " 13  Interstate         33730 non-null  object        \n",
      " 14  Route              33730 non-null  object        \n",
      " 15  Direction          33730 non-null  object        \n",
      " 16  Unnamed: 16        33730 non-null  object        \n",
      " 17  Description        33730 non-null  object        \n",
      " 18  Inc MM             33730 non-null  float64       \n",
      " 19  Long               33730 non-null  float64       \n",
      " 20  Lat                33730 non-null  float64       \n",
      "dtypes: datetime64[ns](2), float64(6), int64(4), object(9)\n",
      "memory usage: 5.4+ MB\n"
     ]
    }
   ],
   "source": [
    "traffic_df.info()"
   ]
  },
  {
   "cell_type": "code",
   "execution_count": 7,
   "id": "37ad43f5",
   "metadata": {},
   "outputs": [
    {
     "data": {
      "text/plain": [
       "Index(['Region', 'Incident ID', 'Incident Type', 'Full Location ',\n",
       "       'Start Date', 'Start Time', 'Duration (mins)', 'Lanes\\nBlocked',\n",
       "       'Blockage\\nDuration', 'Resp Time', 'Rural/\\nUrban', 'Key ', 'County',\n",
       "       'Interstate', 'Route', 'Direction', 'Unnamed: 16', 'Description',\n",
       "       'Inc MM', 'Long ', 'Lat'],\n",
       "      dtype='object')"
      ]
     },
     "execution_count": 7,
     "metadata": {},
     "output_type": "execute_result"
    }
   ],
   "source": [
    "traffic_df.columns"
   ]
  },
  {
   "cell_type": "code",
   "execution_count": 9,
   "id": "0a629b60",
   "metadata": {},
   "outputs": [
    {
     "data": {
      "text/plain": [
       "Disabled Vehicle              19210\n",
       "MultiVehicle Crash             5493\n",
       "Abandoned Vehicle              4841\n",
       "Debris on Roadway              1908\n",
       "Single Vehicle Crash           1216\n",
       "PD/Med/Fire Activity            376\n",
       "Overturned Vehicle              271\n",
       "Vehicle Fire                    190\n",
       "Weather                          54\n",
       "Flooding                         36\n",
       "Special Event                    35\n",
       "Jack-Knife Tractor Trailer       33\n",
       "Other                            28\n",
       "Off Ramp Backup                  22\n",
       "Interstate Shooting              13\n",
       "Wrong Way Driver                  2\n",
       "Oversize Load                     2\n",
       "Name: Incident Type, dtype: int64"
      ]
     },
     "execution_count": 9,
     "metadata": {},
     "output_type": "execute_result"
    }
   ],
   "source": [
    "traffic_df['Incident Type'].value_counts()"
   ]
  },
  {
   "cell_type": "code",
   "execution_count": 10,
   "id": "d02742aa",
   "metadata": {},
   "outputs": [
    {
     "data": {
      "text/plain": [
       "False    33730\n",
       "Name: Incident Type, dtype: int64"
      ]
     },
     "execution_count": 10,
     "metadata": {},
     "output_type": "execute_result"
    }
   ],
   "source": [
    "traffic_df['Incident Type'].isnull().value_counts()"
   ]
  },
  {
   "cell_type": "code",
   "execution_count": 11,
   "id": "251da5dd",
   "metadata": {},
   "outputs": [
    {
     "data": {
      "text/plain": [
       "array(['MultiVehicle Crash', 'Disabled Vehicle', 'Abandoned Vehicle',\n",
       "       'Debris on Roadway', 'Single Vehicle Crash', 'Special Event',\n",
       "       'Overturned Vehicle', 'PD/Med/Fire Activity', 'Vehicle Fire',\n",
       "       'Interstate Shooting', 'Weather', 'Other',\n",
       "       'Jack-Knife Tractor Trailer', 'Oversize Load', 'Off Ramp Backup',\n",
       "       'Flooding', 'Wrong Way Driver'], dtype=object)"
      ]
     },
     "execution_count": 11,
     "metadata": {},
     "output_type": "execute_result"
    }
   ],
   "source": [
    "traffic_df['Incident Type'].unique()"
   ]
  },
  {
   "cell_type": "code",
   "execution_count": null,
   "id": "d0dd9333",
   "metadata": {},
   "outputs": [],
   "source": []
  },
  {
   "cell_type": "code",
   "execution_count": null,
   "id": "7d7962a2",
   "metadata": {},
   "outputs": [],
   "source": []
  },
  {
   "cell_type": "code",
   "execution_count": null,
   "id": "0ccb830b",
   "metadata": {},
   "outputs": [],
   "source": []
  },
  {
   "cell_type": "code",
   "execution_count": null,
   "id": "c2158c12",
   "metadata": {},
   "outputs": [],
   "source": [
    "davidson = traffic_df[traffic_df['County']=='Davidson']"
   ]
  },
  {
   "cell_type": "code",
   "execution_count": null,
   "id": "0e47d81b",
   "metadata": {},
   "outputs": [],
   "source": []
  },
  {
   "cell_type": "markdown",
   "id": "d5dd209b",
   "metadata": {},
   "source": [
    "### geospatial coding. update 'geometry' column"
   ]
  },
  {
   "cell_type": "code",
   "execution_count": null,
   "id": "da1381c3",
   "metadata": {},
   "outputs": [],
   "source": [
    "traffic_df['geometry'] = traffic_df.apply(lambda x: Point((float(x.Longitude),\n",
    "                                                   float(x.Latitude))),\n",
    "                                  axis=1)"
   ]
  },
  {
   "cell_type": "code",
   "execution_count": null,
   "id": "6fd83a9b",
   "metadata": {},
   "outputs": [],
   "source": [
    "traffic_df.head()"
   ]
  },
  {
   "cell_type": "code",
   "execution_count": null,
   "id": "4acc2aca",
   "metadata": {},
   "outputs": [],
   "source": [
    "traffic_geo = gpd.GeoDataFrame(traffic_df)"
   ]
  },
  {
   "cell_type": "code",
   "execution_count": null,
   "id": "d5a1a912",
   "metadata": {},
   "outputs": [],
   "source": [
    "traffic_geo.head()"
   ]
  },
  {
   "cell_type": "code",
   "execution_count": null,
   "id": "3501aa99",
   "metadata": {},
   "outputs": [],
   "source": [
    "type(traffic_geo)"
   ]
  },
  {
   "cell_type": "markdown",
   "id": "d1ed1b31",
   "metadata": {},
   "source": [
    "### Save the number of rows and columns as a tuple"
   ]
  },
  {
   "cell_type": "code",
   "execution_count": null,
   "id": "8d5a31f9",
   "metadata": {},
   "outputs": [],
   "source": [
    "rows_and_cols = traffic_df.shape\n",
    "print('There are {} rows and {} columns.\\n'.format(\n",
    "    rows_and_cols[0], rows_and_cols[1]))"
   ]
  },
  {
   "cell_type": "code",
   "execution_count": null,
   "id": "083eba58",
   "metadata": {},
   "outputs": [],
   "source": [
    "# compile the list of dataframes to be merged\n",
    "data_frames = [car_accident0, car_accident1, car_accident2,car_accident3, car_accident4]"
   ]
  },
  {
   "cell_type": "code",
   "execution_count": null,
   "id": "37d86412",
   "metadata": {},
   "outputs": [],
   "source": [
    "traffic_2021 = pd.concat([traffic_df, h_weather, d_weather], sort=True)\n",
    "traffic_2021.head(2)"
   ]
  },
  {
   "cell_type": "code",
   "execution_count": null,
   "id": "8dca7b48",
   "metadata": {},
   "outputs": [],
   "source": [
    "#The amount in brackets will populate. \n",
    "print('There are {} accidents in the data'.format(len(car_accidents_2010_2020)))"
   ]
  },
  {
   "cell_type": "code",
   "execution_count": null,
   "id": "6d2bebea",
   "metadata": {},
   "outputs": [],
   "source": []
  },
  {
   "cell_type": "code",
   "execution_count": null,
   "id": "472e15f4",
   "metadata": {},
   "outputs": [],
   "source": [
    "#dropping columns\n",
    "pd.set_option('display.max_columns', 1000)\n",
    "df.drop(['property_damage', 'accident_number', 'reporting_officer', 'collision_type', 'weather', 'illumination', \n",
    "         'harmful_codes', 'state_name', 'rpa', 'geocoded_column', ':@computed_region_wvby_4s8j', \n",
    "         ':@computed_region_3aw5_2wv7', ':@computed_region_p6sk_2acq', ':@computed_region_gxvr_9jxz',\n",
    "         'property_damage'], axis=1, inplace=True)\n",
    "df.tail()\n",
    "\n",
    "# columns listed\n",
    "'Region', 'Incident ID', 'Incident Type', 'Full Location ',\n",
    "       'Start Date', 'Start Time', 'Duration (mins)', 'Lanes\\nBlocked',\n",
    "       'Blockage\\nDuration', 'Resp Time', 'Rural/\\nUrban', 'Key ', 'County',\n",
    "       'Interstate', 'Route', 'Direction', 'Unnamed: 16', 'Description',\n",
    "       'Inc Mile Marker', 'Latitude', 'Longitude'"
   ]
  },
  {
   "cell_type": "code",
   "execution_count": null,
   "id": "4ea9772e",
   "metadata": {},
   "outputs": [],
   "source": []
  },
  {
   "cell_type": "code",
   "execution_count": null,
   "id": "5fb0c771",
   "metadata": {},
   "outputs": [],
   "source": []
  },
  {
   "cell_type": "markdown",
   "id": "489d6f29",
   "metadata": {},
   "source": [
    "### top _ sorted "
   ]
  },
  {
   "cell_type": "code",
   "execution_count": null,
   "id": "6157c41c",
   "metadata": {},
   "outputs": [],
   "source": [
    "gdp_and_internet_use_2014.sort_values(by = 'Internet_Users_Pct', ascending = False).head()"
   ]
  },
  {
   "cell_type": "code",
   "execution_count": null,
   "id": "cc628f9e",
   "metadata": {},
   "outputs": [],
   "source": []
  },
  {
   "cell_type": "markdown",
   "id": "d9733f84",
   "metadata": {},
   "source": [
    "### Reviewing Weather Data"
   ]
  },
  {
   "cell_type": "code",
   "execution_count": null,
   "id": "7da3922d",
   "metadata": {},
   "outputs": [],
   "source": [
    "h_weather.head()"
   ]
  },
  {
   "cell_type": "code",
   "execution_count": null,
   "id": "07a11236",
   "metadata": {},
   "outputs": [],
   "source": [
    "h_weather.columns"
   ]
  },
  {
   "cell_type": "code",
   "execution_count": null,
   "id": "adf71b57",
   "metadata": {},
   "outputs": [],
   "source": [
    "d_weather.head()"
   ]
  },
  {
   "cell_type": "code",
   "execution_count": null,
   "id": "0c4ad246",
   "metadata": {},
   "outputs": [],
   "source": [
    "d_weather.columns"
   ]
  },
  {
   "cell_type": "code",
   "execution_count": null,
   "id": "2bd8e2b8",
   "metadata": {},
   "outputs": [],
   "source": []
  },
  {
   "cell_type": "markdown",
   "id": "4f5a05c0",
   "metadata": {},
   "source": [
    "### Date/Time"
   ]
  },
  {
   "cell_type": "code",
   "execution_count": null,
   "id": "a1913737",
   "metadata": {},
   "outputs": [],
   "source": [
    "car_accidents_2010_2020['DateTime'] = pd.to_datetime(car_accidents_2010_2020['Date and Time'])\n",
    "car_accidents_2010_2020['date'] = car_accidents_2010_2020['DateTime'].dt.date\n",
    "car_accidents_2010_2020['time'] = car_accidents_2010_2020['DateTime'].dt.time"
   ]
  },
  {
   "cell_type": "code",
   "execution_count": null,
   "id": "8e2900ea",
   "metadata": {},
   "outputs": [],
   "source": [
    "car_accidents_2010_2020 = car_accidents_2010_2020.set_index('DateTime')\n",
    "car_accidents_2010_2020.head(3)"
   ]
  },
  {
   "cell_type": "code",
   "execution_count": null,
   "id": "cb14be5e",
   "metadata": {},
   "outputs": [],
   "source": []
  },
  {
   "cell_type": "markdown",
   "id": "10826dec",
   "metadata": {},
   "source": [
    "### Histographs"
   ]
  },
  {
   "cell_type": "code",
   "execution_count": null,
   "id": "0c78a764",
   "metadata": {},
   "outputs": [],
   "source": [
    "traffic_df['column name'].value_counts()"
   ]
  },
  {
   "cell_type": "code",
   "execution_count": null,
   "id": "5a21825b",
   "metadata": {},
   "outputs": [],
   "source": [
    "traffic_df['number_of_motor_vehicles'] = pd.to_numeric(traffic_df['number_of_motor_vehicles'])  \n",
    "                                                                        \n",
    "traffic_df.hist(['number_of_motor_vehicles'])"
   ]
  },
  {
   "cell_type": "code",
   "execution_count": null,
   "id": "fe87c6d4",
   "metadata": {},
   "outputs": [],
   "source": []
  },
  {
   "cell_type": "code",
   "execution_count": null,
   "id": "1a3001dd",
   "metadata": {},
   "outputs": [],
   "source": [
    "car_accidents_2010_2020['Collision Type'].value_counts(normalize=True).sort_index().plot.bar()\n",
    "plt.grid()\n",
    "plt.title('collision Type')\n",
    "plt.xlabel('Collision Type')\n",
    "plt.ylabel('Fraction');"
   ]
  },
  {
   "cell_type": "code",
   "execution_count": null,
   "id": "200bebb7",
   "metadata": {},
   "outputs": [],
   "source": [
    "car_accidents_2010_2020['Collision Type'].value_counts().plot.bar()\n",
    "plt.grid()\n",
    "plt.title('collision Type')\n",
    "plt.xlabel('Collision Type')\n",
    "plt.ylabel('Fraction');"
   ]
  },
  {
   "cell_type": "code",
   "execution_count": null,
   "id": "afb7d06a",
   "metadata": {},
   "outputs": [],
   "source": [
    "car_accidents_2010_2020['Collision Type Description'].value_counts(normalize=True).sort_index().plot.bar()\n",
    "plt.grid()\n",
    "plt.title('Collision Type Description')\n",
    "plt.xlabel('Collision Type Description')\n",
    "plt.ylabel('Fraction');"
   ]
  },
  {
   "cell_type": "code",
   "execution_count": null,
   "id": "f5b62a90",
   "metadata": {},
   "outputs": [],
   "source": [
    "car_accidents_2010_2020['Collision Type Description'].value_counts().plot.bar()\n",
    "plt.grid()\n",
    "plt.title('Collision Type Description')\n",
    "plt.xlabel('Collision Type Description')\n",
    "plt.ylabel('Total count');"
   ]
  },
  {
   "cell_type": "code",
   "execution_count": null,
   "id": "5da84738",
   "metadata": {},
   "outputs": [],
   "source": []
  },
  {
   "cell_type": "code",
   "execution_count": null,
   "id": "3acfb13d",
   "metadata": {},
   "outputs": [],
   "source": [
    "car_accidents_2010_2020['Weekday'] = car_accidents_2010_2020.index.weekday_name\n",
    "weekday = car_accidents_2010_2020.groupby('Weekday')['Accident Number'].count()\n",
    "weekday = weekday/weekday.sum()\n",
    "dayOfWeek=['Monday','Tuesday','Wednesday','Thursday','Friday','Saturday','Sunday']\n",
    "weekday[dayOfWeek].plot.bar()\n",
    "plt.title('Acccidents by Weekday')\n",
    "plt.xlabel('Weekday')\n",
    "plt.ylabel('Accidents');"
   ]
  },
  {
   "cell_type": "code",
   "execution_count": null,
   "id": "48bcf55d",
   "metadata": {},
   "outputs": [],
   "source": []
  },
  {
   "cell_type": "code",
   "execution_count": null,
   "id": "dfedc90f",
   "metadata": {},
   "outputs": [],
   "source": [
    "years = ['2010','2011','2012','2013', '2014', '2015', '2016', '2017', '2018', '2019']\n",
    "fig, _ = plt.subplots(1,10,figsize=(21,7), sharex='all', sharey='all')\n",
    "\n",
    "fig.suptitle('Acccidents by Weekday for Different Years')\n",
    "plt.xlabel('Weekday')\n",
    "plt.ylabel('Accidents')\n",
    "for i, year in enumerate(years,1):\n",
    "    weekday = car_accidents_2010_2020.loc[year].groupby('Weekday')['Accident Number'].count()\n",
    "    weekday = weekday/weekday.sum()\n",
    "    dayOfWeek=['Monday','Tuesday','Wednesday','Thursday','Friday','Saturday','Sunday']\n",
    "    plt.subplot(1,10,i)\n",
    "    plt.title(year)\n",
    "    weekday[dayOfWeek].plot.bar()"
   ]
  },
  {
   "cell_type": "code",
   "execution_count": null,
   "id": "34f88d32",
   "metadata": {},
   "outputs": [],
   "source": []
  },
  {
   "cell_type": "code",
   "execution_count": null,
   "id": "3d6e0dce",
   "metadata": {},
   "outputs": [],
   "source": []
  },
  {
   "cell_type": "code",
   "execution_count": null,
   "id": "270f9636",
   "metadata": {},
   "outputs": [],
   "source": []
  },
  {
   "cell_type": "markdown",
   "id": "24448ad6",
   "metadata": {},
   "source": [
    "### Create scatterplots"
   ]
  },
  {
   "cell_type": "code",
   "execution_count": null,
   "id": "18563b4f",
   "metadata": {},
   "outputs": [],
   "source": [
    "plt.figure(figsize = (15,10))\n",
    "sns.scatterplot(x = 'Internet_Users_Pct', y = 'GDP_Per_Capita', data = gdp_and_internet_use_2004, alpha = 0.9)\n",
    "plt.title('2004 Percent Using the Internet vs GDP Per Capita', fontsize = 15)\n",
    "plt.xlabel('Percentage of Internet Users', fontsize = 12)\n",
    "plt.ylabel('GDP Per Capita', fontsize = 12)"
   ]
  },
  {
   "cell_type": "code",
   "execution_count": null,
   "id": "234370eb",
   "metadata": {},
   "outputs": [],
   "source": []
  },
  {
   "cell_type": "code",
   "execution_count": null,
   "id": "6e1261f5",
   "metadata": {},
   "outputs": [],
   "source": []
  },
  {
   "cell_type": "code",
   "execution_count": null,
   "id": "1302d86a",
   "metadata": {},
   "outputs": [],
   "source": []
  },
  {
   "cell_type": "code",
   "execution_count": null,
   "id": "3648e485",
   "metadata": {},
   "outputs": [],
   "source": [
    "# distribution of gdp per capita \n",
    "ax = sns.distplot(gdp_and_internet_use.gdp_percapita,\n",
    "                 bins = 25,\n",
    "                  hist_kw={'alpha' :.2})\n",
    "ax.set(xlabel = 'GDP per Capita', ylabel = 'Frequency')"
   ]
  },
  {
   "cell_type": "code",
   "execution_count": null,
   "id": "f69f04f6",
   "metadata": {},
   "outputs": [],
   "source": []
  },
  {
   "cell_type": "code",
   "execution_count": null,
   "id": "5459cdec",
   "metadata": {},
   "outputs": [],
   "source": [
    "#internet use\n",
    "ax = sns.distplot(gdp_and_internet_use.Internet_Users_Pct,\n",
    "                 bins = 25,\n",
    "                  color  = 'green',\n",
    "                  hist_kw={'alpha':.4})\n",
    "ax.set(xlabel = 'Internet User Pct', ylabel = 'Frequency')"
   ]
  },
  {
   "cell_type": "code",
   "execution_count": null,
   "id": "7dd3ce87",
   "metadata": {},
   "outputs": [],
   "source": []
  },
  {
   "cell_type": "code",
   "execution_count": null,
   "id": "a0c85659",
   "metadata": {},
   "outputs": [],
   "source": []
  },
  {
   "cell_type": "code",
   "execution_count": null,
   "id": "5179a1ed",
   "metadata": {},
   "outputs": [],
   "source": [
    "years = ['2010','2011','2012','2013', '2014', '2015', '2016', '2017', '2018', '2019']\n",
    "fig, _ = plt.subplots(1,10, figsize=(44,8), sharex='all', sharey='all')\n",
    "\n",
    "fig.suptitle('Acccidents by month for Different Years')\n",
    "plt.xlabel('month')\n",
    "plt.ylabel('Accidents')\n",
    "for i, year in enumerate(years,1):\n",
    "    plt.subplot(1,10,i)\n",
    "    sample = car_accidents_2010_2020.loc[year]['Accident Number'].resample('M').count()\n",
    "    sample.plot()\n",
    "    plt.ylim(0,8000)\n",
    "    plt.title('Accidents, {} count'.format(text))\n",
    "    plt.xlabel('Year')\n",
    "    plt.ylabel('Accident Count');"
   ]
  },
  {
   "cell_type": "code",
   "execution_count": null,
   "id": "c1536644",
   "metadata": {},
   "outputs": [],
   "source": []
  },
  {
   "cell_type": "code",
   "execution_count": null,
   "id": "a01fcf6d",
   "metadata": {},
   "outputs": [],
   "source": []
  },
  {
   "cell_type": "code",
   "execution_count": null,
   "id": "8280b515",
   "metadata": {},
   "outputs": [],
   "source": []
  },
  {
   "cell_type": "code",
   "execution_count": null,
   "id": "1ac4cab2",
   "metadata": {},
   "outputs": [],
   "source": []
  }
 ],
 "metadata": {
  "kernelspec": {
   "display_name": "Python 3",
   "language": "python",
   "name": "python3"
  },
  "language_info": {
   "codemirror_mode": {
    "name": "ipython",
    "version": 3
   },
   "file_extension": ".py",
   "mimetype": "text/x-python",
   "name": "python",
   "nbconvert_exporter": "python",
   "pygments_lexer": "ipython3",
   "version": "3.8.8"
  }
 },
 "nbformat": 4,
 "nbformat_minor": 5
}
